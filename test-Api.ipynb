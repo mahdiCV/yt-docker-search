{
 "cells": [
  {
   "cell_type": "markdown",
   "id": "dfcdb145-cc81-4f82-8066-2fb3171442bf",
   "metadata": {},
   "source": [
    "**Dcker test API**"
   ]
  },
  {
   "cell_type": "code",
   "execution_count": 3,
   "id": "06416137-e9c2-46ab-aaa7-134ed39b2e38",
   "metadata": {},
   "outputs": [],
   "source": [
    "import requests \n",
    "import json"
   ]
  },
  {
   "cell_type": "code",
   "execution_count": 4,
   "id": "f0e2fa72-75e8-41df-9226-fcc3060edefe",
   "metadata": {},
   "outputs": [],
   "source": [
    "url = \"http://0.0.0.0:80/search\"\n",
    "query = \"what is docker?\""
   ]
  },
  {
   "cell_type": "code",
   "execution_count": 5,
   "id": "cccf587f-8963-423b-86ec-a4749ea347e1",
   "metadata": {},
   "outputs": [
    {
     "name": "stdout",
     "output_type": "stream",
     "text": [
      "CPU times: user 2.41 ms, sys: 2.07 ms, total: 4.49 ms\n",
      "Wall time: 37 ms\n"
     ]
    }
   ],
   "source": [
    "params = {\"query\": query}\n",
    "%time response = requests.get(url, params=params)"
   ]
  },
  {
   "cell_type": "code",
   "execution_count": 6,
   "id": "19153dc9-46b6-4ceb-be95-bdd8ae256715",
   "metadata": {},
   "outputs": [
    {
     "data": {
      "text/plain": [
       "'{\"title\":[\"What is Docker? Docker container concept explained || Docker Tutorial 1\",\"What is a Docker Container? Docker Demo || Docker Tutorial 2\",\"Docker Tutorial for Beginners [FULL COURSE in 3 Hours]\",\"Docker Crash Course for Absolute Beginners [NEW]\",\"8 Basic Docker Commands || Docker Tutorial 4\"],\"video_id\":[\"jPdIRX6q4jA\",\"GeqaTjKMWeY\",\"3c-iBn73dDE\",\"pg19Z8LL06w\",\"xGn7cFR3ARU\"]}'"
      ]
     },
     "execution_count": 6,
     "metadata": {},
     "output_type": "execute_result"
    }
   ],
   "source": [
    "response.text"
   ]
  },
  {
   "cell_type": "code",
   "execution_count": 7,
   "id": "b4ab5d71-5070-4178-8882-b4597a826660",
   "metadata": {},
   "outputs": [
    {
     "data": {
      "text/plain": [
       "['What is Docker? Docker container concept explained || Docker Tutorial 1',\n",
       " 'What is a Docker Container? Docker Demo || Docker Tutorial 2',\n",
       " 'Docker Tutorial for Beginners [FULL COURSE in 3 Hours]',\n",
       " 'Docker Crash Course for Absolute Beginners [NEW]',\n",
       " '8 Basic Docker Commands || Docker Tutorial 4']"
      ]
     },
     "execution_count": 7,
     "metadata": {},
     "output_type": "execute_result"
    }
   ],
   "source": [
    "json.loads(response.text)['title']"
   ]
  },
  {
   "cell_type": "markdown",
   "id": "12096766-a4ad-4ede-ac81-b6dc329dba6f",
   "metadata": {},
   "source": [
    "json.loads(response.text)['video_id']"
   ]
  },
  {
   "cell_type": "markdown",
   "id": "f6ebf3b0-7a16-4aaf-8fcd-c6fe78a5ea12",
   "metadata": {},
   "source": [
    "**Testing With UI**"
   ]
  },
  {
   "cell_type": "code",
   "execution_count": 15,
   "id": "a0d76afe-7491-494b-a4f5-47f4e35a3d7a",
   "metadata": {},
   "outputs": [
    {
     "name": "stdout",
     "output_type": "stream",
     "text": [
      "Running on local URL:  http://127.0.0.1:7860\n",
      "\n",
      "To create a public link, set `share=True` in `launch()`.\n"
     ]
    },
    {
     "data": {
      "text/html": [
       "<div><iframe src=\"http://127.0.0.1:7860/\" width=\"100%\" height=\"500\" allow=\"autoplay; camera; microphone; clipboard-read; clipboard-write;\" frameborder=\"0\" allowfullscreen></iframe></div>"
      ],
      "text/plain": [
       "<IPython.core.display.HTML object>"
      ]
     },
     "metadata": {},
     "output_type": "display_data"
    },
    {
     "data": {
      "text/plain": []
     },
     "execution_count": 15,
     "metadata": {},
     "output_type": "execute_result"
    }
   ],
   "source": [
    "import gradio as gr\n",
    "import requests\n",
    "\n",
    "# Function to send request to the Docker API\n",
    "def SearchResults(query):\n",
    "    url = \"http://0.0.0.0:80/search\"  # Docker API endpoint\n",
    "    params = {\"query\": query}\n",
    "\n",
    "    try:\n",
    "        response = requests.get(url, params=params)\n",
    "        data = response.json()  # Parse the JSON response\n",
    "\n",
    "        output_list = []\n",
    "        num_empty_results = 5 - len(data['title'])\n",
    "\n",
    "        # Display search results\n",
    "        for i in range(len(data['title'])):\n",
    "            video_id = data['video_id'][i]\n",
    "            title = data['title'][i]\n",
    "\n",
    "            embed = gr.HTML(value=f'<iframe width=\"576\" height=\"324\" src=\"https://www.youtube.com/embed/{video_id}\"></iframe>', visible=True)\n",
    "            text = gr.Markdown(value=f\"\"\"<br> <br>\n",
    "            # {title}<br>\n",
    "            🔗 [Video Link](https://youtu.be/{video_id})\"\"\", visible=True)\n",
    "\n",
    "            output_list.append(embed)\n",
    "            output_list.append(text)\n",
    "\n",
    "        # If no results, display empty fields\n",
    "        for i in range(num_empty_results):\n",
    "            if num_empty_results == 5 and i == 0:\n",
    "                embed = gr.HTML(visible=False)\n",
    "                text = gr.Markdown(value=\"No results. Try rephrasing your query.\", visible=True)\n",
    "\n",
    "                output_list.append(embed)\n",
    "                output_list.append(text)\n",
    "                continue\n",
    "\n",
    "            embed = gr.HTML(visible=False)\n",
    "            text = gr.Markdown(visible=False)\n",
    "\n",
    "            output_list.append(embed)\n",
    "            output_list.append(text)\n",
    "\n",
    "        return output_list\n",
    "\n",
    "    except Exception as e:\n",
    "        return [gr.Markdown(f\"Error: {str(e)}\")]\n",
    "\n",
    "\n",
    "# Gradio UI\n",
    "output_list = []\n",
    "\n",
    "with gr.Blocks() as demo:\n",
    "    gr.Markdown(\"# YouTube Search\")\n",
    "\n",
    "    with gr.Row():\n",
    "        inputs = gr.Textbox(placeholder=\"What is docker?\", label=\"Query\", scale=3)\n",
    "        btn = gr.Button(\"Search\")\n",
    "        btn.click(fn=SearchResults, inputs=inputs, outputs=output_list)\n",
    "\n",
    "    for i in range(5):\n",
    "        with gr.Row():\n",
    "            output_list.append(gr.HTML())\n",
    "            output_list.append(gr.Markdown())\n",
    "\n",
    "    inputs.submit(fn=SearchResults, inputs=inputs, outputs=output_list)\n",
    "\n",
    "demo.launch()\n"
   ]
  }
 ],
 "metadata": {
  "kernelspec": {
   "display_name": "Python 3 (ipykernel)",
   "language": "python",
   "name": "python3"
  },
  "language_info": {
   "codemirror_mode": {
    "name": "ipython",
    "version": 3
   },
   "file_extension": ".py",
   "mimetype": "text/x-python",
   "name": "python",
   "nbconvert_exporter": "python",
   "pygments_lexer": "ipython3",
   "version": "3.12.4"
  }
 },
 "nbformat": 4,
 "nbformat_minor": 5
}
